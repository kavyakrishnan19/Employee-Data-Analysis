{
 "cells": [
  {
   "cell_type": "code",
   "execution_count": 1,
   "metadata": {},
   "outputs": [
    {
     "data": {
      "text/html": [
       "\n",
       "        <div>\n",
       "            <p><b>SparkContext</b></p>\n",
       "\n",
       "            <p><a href=\"http://ip-10-1-1-204.ap-south-1.compute.internal:43002\">Spark UI</a></p>\n",
       "\n",
       "            <dl>\n",
       "              <dt>Version</dt>\n",
       "                <dd><code>v2.4.0</code></dd>\n",
       "              <dt>Master</dt>\n",
       "                <dd><code>yarn</code></dd>\n",
       "              <dt>AppName</dt>\n",
       "                <dd><code>employees_data</code></dd>\n",
       "            </dl>\n",
       "        </div>\n",
       "        "
      ],
      "text/plain": [
       "<SparkContext master=yarn appName=employees_data>"
      ]
     },
     "execution_count": 1,
     "metadata": {},
     "output_type": "execute_result"
    }
   ],
   "source": [
    "from pyspark import SparkContext,SparkConf\n",
    "sconf = SparkConf().setMaster(\"yarn\").setAppName(\"employees_data\")\n",
    "sc= SparkContext(conf=sconf)\n",
    "sc"
   ]
  },
  {
   "cell_type": "code",
   "execution_count": 2,
   "metadata": {},
   "outputs": [
    {
     "data": {
      "text/html": [
       "\n",
       "            <div>\n",
       "                <p><b>SparkSession - hive</b></p>\n",
       "                \n",
       "        <div>\n",
       "            <p><b>SparkContext</b></p>\n",
       "\n",
       "            <p><a href=\"http://ip-10-1-1-204.ap-south-1.compute.internal:43002\">Spark UI</a></p>\n",
       "\n",
       "            <dl>\n",
       "              <dt>Version</dt>\n",
       "                <dd><code>v2.4.0</code></dd>\n",
       "              <dt>Master</dt>\n",
       "                <dd><code>yarn</code></dd>\n",
       "              <dt>AppName</dt>\n",
       "                <dd><code>employees_data</code></dd>\n",
       "            </dl>\n",
       "        </div>\n",
       "        \n",
       "            </div>\n",
       "        "
      ],
      "text/plain": [
       "<pyspark.sql.session.SparkSession at 0x7f5284070fd0>"
      ]
     },
     "execution_count": 2,
     "metadata": {},
     "output_type": "execute_result"
    }
   ],
   "source": [
    "import sys,os\n",
    "\n",
    "os.environ[\"SPARK_HOME\"] = '/opt/cloudera/parcels/CDH/lib/spark'\n",
    "\n",
    "sys.path.append('/opt/cloudera/parcels/CDH/lib/spark/python')\n",
    "\n",
    "sys.path.append('/opt/cloudera/parcels/CDH/lib/spark/python/lib/py4j-0.9-src.zip')\n",
    "\n",
    "import pyspark\n",
    "\n",
    "import findspark\n",
    "\n",
    "findspark.init()\n",
    "\n",
    "from pyspark.sql import SparkSession\n",
    "from pyspark.sql.types import *\n",
    "from pyspark.sql.functions import *\n",
    "spark = SparkSession.builder.appName(\"employees_data\").config(\"hive.metastore.uris\",\"thrift://ip-10-1-2-24.ap-south-1.compute.internal:9083\").enableHiveSupport().getOrCreate()\n",
    "spark"
   ]
  },
  {
   "cell_type": "code",
   "execution_count": 3,
   "metadata": {},
   "outputs": [],
   "source": [
    "from pyspark.sql import SQLContext,Row"
   ]
  },
  {
   "cell_type": "code",
   "execution_count": 41,
   "metadata": {},
   "outputs": [],
   "source": [
    "employees = spark.sql(\"select * from employee_db.employees\")"
   ]
  },
  {
   "cell_type": "code",
   "execution_count": 5,
   "metadata": {},
   "outputs": [
    {
     "name": "stdout",
     "output_type": "stream",
     "text": [
      "+------+-------------+----------+----------+---------+---+----------+--------------+-----------------------+-----------------+----------+\n",
      "|emp_no|emp_titles_id|birth_date|first_name|last_name|sex| hire_date|no_of_projects|last_performance_rating|left_organisation| last_date|\n",
      "+------+-------------+----------+----------+---------+---+----------+--------------+-----------------------+-----------------+----------+\n",
      "|\n",
      "|\n",
      "|\n",
      "|\n",
      "|\n",
      "+------+-------------+----------+----------+---------+---+----------+--------------+-----------------------+-----------------+----------+\n",
      "only showing top 5 rows\n",
      "\n"
     ]
    }
   ],
   "source": [
    "employees.show(5)"
   ]
  },
  {
   "cell_type": "code",
   "execution_count": 6,
   "metadata": {},
   "outputs": [],
   "source": [
    "departments = spark.sql(\"select * from employee_db.departments\")"
   ]
  },
  {
   "cell_type": "code",
   "execution_count": 7,
   "metadata": {},
   "outputs": [
    {
     "name": "stdout",
     "output_type": "stream",
     "text": [
      "+-------+-----------------+\n",
      "|dept_no|        dept_name|\n",
      "+-------+-----------------+\n",
      "|   d001|      \"Marketing\"|\n",
      "|   d002|        \"Finance\"|\n",
      "|   d003|\"Human Resources\"|\n",
      "|   d004|     \"Production\"|\n",
      "|   d005|    \"development\"|\n",
      "+-------+-----------------+\n",
      "only showing top 5 rows\n",
      "\n"
     ]
    }
   ],
   "source": [
    "departments.show(5)"
   ]
  },
  {
   "cell_type": "code",
   "execution_count": 8,
   "metadata": {},
   "outputs": [],
   "source": [
    "dept_emp = spark.sql(\"select * from employee_db.dept_emp\")"
   ]
  },
  {
   "cell_type": "code",
   "execution_count": 9,
   "metadata": {},
   "outputs": [
    {
     "name": "stdout",
     "output_type": "stream",
     "text": [
      "+------+-------+\n",
      "|emp_no|dept_no|\n",
      "+------+-------+\n",
      "| 10001|   d005|\n",
      "| 10002|   d007|\n",
      "| 10003|   d004|\n",
      "| 10004|   d004|\n",
      "| 10005|   d003|\n",
      "+------+-------+\n",
      "only showing top 5 rows\n",
      "\n"
     ]
    }
   ],
   "source": [
    "dept_emp.show(5)"
   ]
  },
  {
   "cell_type": "code",
   "execution_count": 10,
   "metadata": {},
   "outputs": [],
   "source": [
    "dept_managers = spark.sql(\"select * from employee_db.dept_managers\")"
   ]
  },
  {
   "cell_type": "code",
   "execution_count": 11,
   "metadata": {},
   "outputs": [
    {
     "name": "stdout",
     "output_type": "stream",
     "text": [
      "+-------+------+\n",
      "|dept_no|emp_no|\n",
      "+-------+------+\n",
      "|   d001|110022|\n",
      "|   d001|110039|\n",
      "|   d002|110085|\n",
      "|   d002|110114|\n",
      "|   d003|110183|\n",
      "+-------+------+\n",
      "only showing top 5 rows\n",
      "\n"
     ]
    }
   ],
   "source": [
    "dept_managers.show(5)"
   ]
  },
  {
   "cell_type": "code",
   "execution_count": 12,
   "metadata": {},
   "outputs": [],
   "source": [
    "titles = spark.sql(\"select * from employee_db.titles\")"
   ]
  },
  {
   "cell_type": "code",
   "execution_count": 13,
   "metadata": {},
   "outputs": [
    {
     "name": "stdout",
     "output_type": "stream",
     "text": [
      "+--------+------------------+\n",
      "|title_id|             title|\n",
      "+--------+------------------+\n",
      "|   e0001|Assistant Engineer|\n",
      "|   e0002|          Engineer|\n",
      "|   e0003|   Senior Engineer|\n",
      "|   e0004|  Technique Leader|\n",
      "|   m0001|           Manager|\n",
      "+--------+------------------+\n",
      "only showing top 5 rows\n",
      "\n"
     ]
    }
   ],
   "source": [
    "titles.show(5)"
   ]
  },
  {
   "cell_type": "code",
   "execution_count": 14,
   "metadata": {},
   "outputs": [],
   "source": [
    "salaries = spark.sql(\"select * from employee_db.salaries\")"
   ]
  },
  {
   "cell_type": "code",
   "execution_count": 15,
   "metadata": {},
   "outputs": [
    {
     "name": "stdout",
     "output_type": "stream",
     "text": [
      "+------+------+\n",
      "|emp_no|salary|\n",
      "+------+------+\n",
      "| 10001| 60117|\n",
      "| 10002| 65828|\n",
      "| 10003| 40006|\n",
      "| 10004| 40054|\n",
      "| 10005| 78228|\n",
      "+------+------+\n",
      "only showing top 5 rows\n",
      "\n"
     ]
    }
   ],
   "source": [
    "salaries.show(5)"
   ]
  },
  {
   "cell_type": "code",
   "execution_count": 16,
   "metadata": {},
   "outputs": [
    {
     "name": "stdout",
     "output_type": "stream",
     "text": [
      "+------+-----------+----------+---+------+\n",
      "|emp_no|  last_name|first_name|sex|salary|\n",
      "+------+-----------+----------+---+------+\n",
      "| 10001|    Facello|    Georgi|  M| 60117|\n",
      "| 10002|     Simmel|   Bezalel|  F| 65828|\n",
      "| 10003|    Bamford|     Parto|  M| 40006|\n",
      "| 10004|    Koblick| Chirstian|  M| 40054|\n",
      "| 10005|   Maliniak|   Kyoichi|  M| 78228|\n",
      "| 10006|    Preusig|    Anneke|  F| 40000|\n",
      "| 10007|  Zielinski|   Tzvetan|  F| 56724|\n",
      "| 10008|   Kalloufi|    Saniya|  M| 46671|\n",
      "| 10009|       Peac|    Sumant|  F| 60929|\n",
      "| 10010|   Piveteau| Duangkaew|  F| 72488|\n",
      "| 10011|      Sluis|      Mary|  F| 42365|\n",
      "| 10012|  Bridgland|  Patricio|  M| 40000|\n",
      "| 10013|     Terkki| Eberhardt|  M| 40000|\n",
      "| 10014|      Genin|     Berni|  M| 46168|\n",
      "| 10015|  Nooteboom|  Guoxiang|  M| 40000|\n",
      "| 10016|Cappelletti|  Kazuhito|  M| 70889|\n",
      "| 10017|  Bouloucos| Cristinel|  F| 71380|\n",
      "| 10018|       Peha|  Kazuhide|  F| 55881|\n",
      "| 10019|    Haddadi|   Lillian|  M| 44276|\n",
      "| 10020|    Warwick|    Mayuko|  M| 40000|\n",
      "+------+-----------+----------+---+------+\n",
      "only showing top 20 rows\n",
      "\n"
     ]
    }
   ],
   "source": [
    "# A list showing employee number, last name, first name, sex, and salary for each employee\n",
    "spark.sql(\"\"\"select e.emp_no,last_name,first_name,sex,salary from employees e left join salary s \n",
    "            on e.emp_no =  s.emp_no\"\"\").show()"
   ]
  },
  {
   "cell_type": "code",
   "execution_count": 27,
   "metadata": {},
   "outputs": [
    {
     "name": "stdout",
     "output_type": "stream",
     "text": [
      "+----------+-------------+---------+\n",
      "|first_name|    last_name|hire_date|\n",
      "+----------+-------------+---------+\n",
      "| Achilleas|        Kroft| 1/1/1986|\n",
      "|     Mario|     Orlowska| 1/1/1986|\n",
      "|     Jiann|      Bondorf| 1/1/1986|\n",
      "|  Nathalie|        Speer| 1/1/1986|\n",
      "|   Boriana|      Vingron| 1/1/1986|\n",
      "| Kwangyoen|       Karlin| 1/1/1986|\n",
      "|   Eishiro|      Curless| 1/1/1986|\n",
      "|  Hercules|      Veevers| 1/1/1986|\n",
      "| Kwangyoen|        Rosca| 1/1/1986|\n",
      "|   Toshiko|       Felder| 1/1/1986|\n",
      "|    Saniya|     Lanphier| 1/1/1986|\n",
      "|    Sanjay|    Servieres| 1/1/1986|\n",
      "|  Domenick|     Dehkordi| 1/1/1986|\n",
      "|   Tianruo|        Demri| 1/1/1986|\n",
      "|     Basil|      Matteis| 1/1/1986|\n",
      "|     Danae|    Nyanchama| 1/1/1986|\n",
      "| Juichirou|        Munke| 1/1/1986|\n",
      "|   Youssef|      Janocha| 1/1/1986|\n",
      "|    Poorav|Papastamatiou| 1/1/1986|\n",
      "|      Moie|  McConalogue| 1/1/1986|\n",
      "+----------+-------------+---------+\n",
      "only showing top 20 rows\n",
      "\n"
     ]
    }
   ],
   "source": [
    "# A list showing first name, last name, and hire date for employees who were hired in 1986.\n",
    "spark.sql(\"\"\"select first_name,last_name,hire_date from employees \n",
    "            where hire_date like '%1986'\n",
    "            order by hire_date\"\"\").show()"
   ]
  },
  {
   "cell_type": "code",
   "execution_count": 28,
   "metadata": {},
   "outputs": [
    {
     "name": "stdout",
     "output_type": "stream",
     "text": [
      "+-------+--------------------+------+-----------+------------+\n",
      "|dept_no|           dept_name|emp_no| first_name|   last_name|\n",
      "+-------+--------------------+------+-----------+------------+\n",
      "|   d001|         \"Marketing\"|110022|  Margareta|  Markovitch|\n",
      "|   d001|         \"Marketing\"|110039|   Vishwani|    Minakawa|\n",
      "|   d002|           \"Finance\"|110085|       Ebru|       Alpin|\n",
      "|   d002|           \"Finance\"|110114|      Isamu|  Legleitner|\n",
      "|   d003|   \"Human Resources\"|110183|    Shirish|Ossenbruggen|\n",
      "|   d003|   \"Human Resources\"|110228|    Karsten|     Sigstam|\n",
      "|   d004|        \"Production\"|110303|  Krassimir|     Wegerle|\n",
      "|   d004|        \"Production\"|110344|     Rosine|       Cools|\n",
      "|   d004|        \"Production\"|110386|       Shem|      Kieras|\n",
      "|   d004|        \"Production\"|110420|      Oscar|    Ghazalie|\n",
      "|   d005|       \"development\"|110511|   DeForest|    Hagimont|\n",
      "|   d005|       \"development\"|110567|       Leon|    DasSarma|\n",
      "|   d006|\"Quality Management\"|110725|  Peternela|     Onuegbe|\n",
      "|   d006|\"Quality Management\"|110765|     Rutger|     Hofmeyr|\n",
      "|   d006|\"Quality Management\"|110800|     Sanjoy|     Quadeer|\n",
      "|   d006|\"Quality Management\"|110854|       Dung|       Pesch|\n",
      "|   d007|             \"Sales\"|111035|Przemyslawa|   Kaelbling|\n",
      "|   d007|             \"Sales\"|111133|      Hauke|       Zhang|\n",
      "|   d008|          \"Research\"|111400|       Arie|     Staelin|\n",
      "|   d008|          \"Research\"|111534|     Hilary|      Kambil|\n",
      "+-------+--------------------+------+-----------+------------+\n",
      "only showing top 20 rows\n",
      "\n"
     ]
    }
   ],
   "source": [
    "# A list showing the manager of each department with the following information: department number, department name,\n",
    "# the manager's employee number, last name, first name.\n",
    "\n",
    "spark.sql(\"\"\"select  dm.dept_no,dept_name,dm.emp_no,first_name,last_name \n",
    "            from dept_managers dm  left join departments d on dm.dept_no=d.dept_no \n",
    "            left join employees e on dm.emp_no = e.emp_no\"\"\").show()\n"
   ]
  },
  {
   "cell_type": "code",
   "execution_count": 29,
   "metadata": {},
   "outputs": [
    {
     "name": "stdout",
     "output_type": "stream",
     "text": [
      "+------+----------+-----------+--------------------+\n",
      "|emp_no|first_name|  last_name|           dept_name|\n",
      "+------+----------+-----------+--------------------+\n",
      "| 10001|    Georgi|    Facello|       \"development\"|\n",
      "| 10002|   Bezalel|     Simmel|             \"Sales\"|\n",
      "| 10003|     Parto|    Bamford|        \"Production\"|\n",
      "| 10004| Chirstian|    Koblick|        \"Production\"|\n",
      "| 10005|   Kyoichi|   Maliniak|   \"Human Resources\"|\n",
      "| 10006|    Anneke|    Preusig|       \"development\"|\n",
      "| 10007|   Tzvetan|  Zielinski|          \"Research\"|\n",
      "| 10008|    Saniya|   Kalloufi|       \"development\"|\n",
      "| 10009|    Sumant|       Peac|\"Quality Management\"|\n",
      "| 10010| Duangkaew|   Piveteau|\"Quality Management\"|\n",
      "| 10010| Duangkaew|   Piveteau|        \"Production\"|\n",
      "| 10011|      Mary|      Sluis|  \"Customer Service\"|\n",
      "| 10012|  Patricio|  Bridgland|       \"development\"|\n",
      "| 10013| Eberhardt|     Terkki|   \"Human Resources\"|\n",
      "| 10014|     Berni|      Genin|       \"development\"|\n",
      "| 10015|  Guoxiang|  Nooteboom|          \"Research\"|\n",
      "| 10016|  Kazuhito|Cappelletti|             \"Sales\"|\n",
      "| 10017| Cristinel|  Bouloucos|         \"Marketing\"|\n",
      "| 10018|  Kazuhide|       Peha|       \"development\"|\n",
      "| 10018|  Kazuhide|       Peha|        \"Production\"|\n",
      "+------+----------+-----------+--------------------+\n",
      "only showing top 20 rows\n",
      "\n"
     ]
    }
   ],
   "source": [
    "# A list showing the department of each employee with the following information: employee number, last name, first\n",
    "# name, and department name.\n",
    "\n",
    "spark.sql(\"\"\"select e.emp_no,first_name,last_name,dept_name from employees e \n",
    "            join dept_emp de on e.emp_no=de.emp_no \n",
    "            join departments d on de.dept_no=d.dept_no\"\"\").show()"
   ]
  },
  {
   "cell_type": "code",
   "execution_count": 30,
   "metadata": {},
   "outputs": [
    {
     "name": "stdout",
     "output_type": "stream",
     "text": [
      "+----------+-------------+---+\n",
      "|first_name|    last_name|sex|\n",
      "+----------+-------------+---+\n",
      "|  Hercules|   Benzmuller|  M|\n",
      "|  Hercules|      Brendel|  F|\n",
      "|  Hercules|   Baranowski|  M|\n",
      "|  Hercules|     Barreiro|  M|\n",
      "|  Hercules|         Baer|  M|\n",
      "|  Hercules|Bernardinello|  F|\n",
      "|  Hercules|      Basagni|  M|\n",
      "|  Hercules|        Biran|  F|\n",
      "|  Hercules|    Bernatsky|  M|\n",
      "|  Hercules|         Bail|  F|\n",
      "|  Hercules|        Birge|  F|\n",
      "|  Hercules|      Bisiani|  F|\n",
      "|  Hercules|       Bodoff|  M|\n",
      "|  Hercules|        Biron|  F|\n",
      "|  Hercules|      Buchter|  M|\n",
      "|  Hercules|         Bain|  F|\n",
      "|  Hercules|         Bahr|  M|\n",
      "|  Hercules|         Baak|  M|\n",
      "|  Hercules|     Benantar|  F|\n",
      "|  Hercules|      Berstel|  F|\n",
      "+----------+-------------+---+\n",
      "\n"
     ]
    }
   ],
   "source": [
    "# A list showing first name, last name, and sex for employees whose first name is \"Hercules\" and last names begin with \"B.“\n",
    "spark.sql(\"\"\"select first_name,last_name,sex  from employees \n",
    "            where first_name like 'Hercules' and last_name like 'B%' \"\"\").show()"
   ]
  },
  {
   "cell_type": "code",
   "execution_count": 31,
   "metadata": {},
   "outputs": [
    {
     "name": "stdout",
     "output_type": "stream",
     "text": [
      "+------+----------+------------+---------+\n",
      "|emp_no|first_name|   last_name|dept_name|\n",
      "+------+----------+------------+---------+\n",
      "| 10002|   Bezalel|      Simmel|  \"Sales\"|\n",
      "| 10016|  Kazuhito| Cappelletti|  \"Sales\"|\n",
      "| 10034|     Bader|        Swan|  \"Sales\"|\n",
      "| 10041|       Uri|      Lenart|  \"Sales\"|\n",
      "| 10050|   Yinghua|      Dredge|  \"Sales\"|\n",
      "| 10053|    Sanjiv|    Zschoche|  \"Sales\"|\n",
      "| 10060|  Breannda| Billingsley|  \"Sales\"|\n",
      "| 10061|       Tse|      Herber|  \"Sales\"|\n",
      "| 10068|  Charlene|     Brattka|  \"Sales\"|\n",
      "| 10087|   Xinglin|     Eugenio|  \"Sales\"|\n",
      "| 10088|  Jungsoon|    Syrzycki|  \"Sales\"|\n",
      "| 10089| Sudharsan|Flasterstein|  \"Sales\"|\n",
      "| 10093|   Sailaja|     Desikan|  \"Sales\"|\n",
      "| 10095|    Hilari|      Morton|  \"Sales\"|\n",
      "| 10099|    Valter|     Sullins|  \"Sales\"|\n",
      "| 10101|     Perla|      Heyers|  \"Sales\"|\n",
      "| 10107|      Dung|        Baca|  \"Sales\"|\n",
      "| 10125|     Syozo|     Hiltgen|  \"Sales\"|\n",
      "| 10136|    Zissis|    Pintelas|  \"Sales\"|\n",
      "| 10148|    Douadi|       Azumi|  \"Sales\"|\n",
      "+------+----------+------------+---------+\n",
      "only showing top 20 rows\n",
      "\n"
     ]
    }
   ],
   "source": [
    "# A list showing all employees in the Sales department, including their employee number, last name, first name, and\n",
    "# department name.\n",
    "\n",
    "spark.sql(\"\"\"select e.emp_no,first_name,last_name,dept_name from employees e \n",
    "             join dept_emp de on e.emp_no=de.emp_no \n",
    "             join departments d on de.dept_no=d.dept_no\n",
    "             where d.dept_name = '\"Sales\"'\"\"\").show()"
   ]
  },
  {
   "cell_type": "code",
   "execution_count": 32,
   "metadata": {},
   "outputs": [
    {
     "name": "stdout",
     "output_type": "stream",
     "text": [
      "+------+----------+-----------+-------------+\n",
      "|emp_no|first_name|  last_name|    dept_name|\n",
      "+------+----------+-----------+-------------+\n",
      "| 10001|    Georgi|    Facello|\"development\"|\n",
      "| 10002|   Bezalel|     Simmel|      \"Sales\"|\n",
      "| 10006|    Anneke|    Preusig|\"development\"|\n",
      "| 10008|    Saniya|   Kalloufi|\"development\"|\n",
      "| 10012|  Patricio|  Bridgland|\"development\"|\n",
      "| 10014|     Berni|      Genin|\"development\"|\n",
      "| 10016|  Kazuhito|Cappelletti|      \"Sales\"|\n",
      "| 10018|  Kazuhide|       Peha|\"development\"|\n",
      "| 10021|     Ramzi|       Erde|\"development\"|\n",
      "| 10022|    Shahaf|     Famili|\"development\"|\n",
      "| 10023|     Bojan| Montemayor|\"development\"|\n",
      "| 10025| Prasadram|     Heyers|\"development\"|\n",
      "| 10027|    Divier|    Reistad|\"development\"|\n",
      "| 10028|  Domenick|   Tempesti|\"development\"|\n",
      "| 10031|   Karsten|     Joslin|\"development\"|\n",
      "| 10034|     Bader|       Swan|      \"Sales\"|\n",
      "| 10037|   Pradeep|   Makrucki|\"development\"|\n",
      "| 10040|     Weiyi|    Meriste|\"development\"|\n",
      "| 10041|       Uri|     Lenart|      \"Sales\"|\n",
      "| 10043|    Yishay|    Tzvieli|\"development\"|\n",
      "+------+----------+-----------+-------------+\n",
      "only showing top 20 rows\n",
      "\n"
     ]
    }
   ],
   "source": [
    "# A list showing all employees in the Sales and Development departments, including their employee number, last name,\n",
    "# first name, and department name.\n",
    "\n",
    "spark.sql(\"\"\"select e.emp_no,first_name,last_name,dept_name from employees e \n",
    "             join dept_emp de on e.emp_no=de.emp_no \n",
    "             join departments d on de.dept_no=d.dept_no\n",
    "             where dept_name ='\"Sales\"' or dept_name = '\"development\"'\"\"\").show()"
   ]
  },
  {
   "cell_type": "code",
   "execution_count": 33,
   "metadata": {},
   "outputs": [
    {
     "name": "stdout",
     "output_type": "stream",
     "text": [
      "+-----------+---------+\n",
      "|  last_name|frequency|\n",
      "+-----------+---------+\n",
      "|       Baba|      226|\n",
      "|     Gelosh|      223|\n",
      "|      Coorg|      223|\n",
      "|    Sudbeck|      222|\n",
      "|     Farris|      222|\n",
      "|     Adachi|      221|\n",
      "|     Osgood|      220|\n",
      "|     Masada|      218|\n",
      "|     Neiman|      218|\n",
      "|    Mandell|      218|\n",
      "|    Wendorf|      217|\n",
      "|Boudaillier|      217|\n",
      "|   Cummings|      216|\n",
      "|    Solares|      216|\n",
      "|     Pettis|      216|\n",
      "|     Mahnke|      216|\n",
      "|     Emmart|      215|\n",
      "|    Kulisch|      215|\n",
      "|   Collette|      215|\n",
      "| Maksimenko|      215|\n",
      "+-----------+---------+\n",
      "only showing top 20 rows\n",
      "\n"
     ]
    }
   ],
   "source": [
    "# A list showing the frequency count of employee last names, in descending order. ( i.e., how many employees share each last name\n",
    "\n",
    "spark.sql(\"\"\"Select last_name, count(last_name) as frequency from employees\n",
    "             group by last_name \n",
    "             order by frequency desc\"\"\").show()"
   ]
  },
  {
   "cell_type": "code",
   "execution_count": 19,
   "metadata": {},
   "outputs": [],
   "source": [
    "import numpy as np\n",
    "import pandas as pd\n",
    "import matplotlib.pyplot as plt\n",
    "import seaborn as sns\n",
    "%matplotlib inline"
   ]
  },
  {
   "cell_type": "code",
   "execution_count": 49,
   "metadata": {},
   "outputs": [],
   "source": [
    "# Histogram to show the salary distribution among the employees\n",
    "salary_pd = salaries.toPandas()"
   ]
  },
  {
   "cell_type": "code",
   "execution_count": 50,
   "metadata": {},
   "outputs": [
    {
     "data": {
      "text/html": [
       "<div>\n",
       "<style scoped>\n",
       "    .dataframe tbody tr th:only-of-type {\n",
       "        vertical-align: middle;\n",
       "    }\n",
       "\n",
       "    .dataframe tbody tr th {\n",
       "        vertical-align: top;\n",
       "    }\n",
       "\n",
       "    .dataframe thead th {\n",
       "        text-align: right;\n",
       "    }\n",
       "</style>\n",
       "<table border=\"1\" class=\"dataframe\">\n",
       "  <thead>\n",
       "    <tr style=\"text-align: right;\">\n",
       "      <th></th>\n",
       "      <th>emp_no</th>\n",
       "      <th>salary</th>\n",
       "    </tr>\n",
       "  </thead>\n",
       "  <tbody>\n",
       "    <tr>\n",
       "      <th>count</th>\n",
       "      <td>300024.000000</td>\n",
       "      <td>300024.000000</td>\n",
       "    </tr>\n",
       "    <tr>\n",
       "      <th>mean</th>\n",
       "      <td>253321.763392</td>\n",
       "      <td>52970.732451</td>\n",
       "    </tr>\n",
       "    <tr>\n",
       "      <th>std</th>\n",
       "      <td>161828.235540</td>\n",
       "      <td>14301.478491</td>\n",
       "    </tr>\n",
       "    <tr>\n",
       "      <th>min</th>\n",
       "      <td>10001.000000</td>\n",
       "      <td>40000.000000</td>\n",
       "    </tr>\n",
       "    <tr>\n",
       "      <th>25%</th>\n",
       "      <td>85006.750000</td>\n",
       "      <td>40000.000000</td>\n",
       "    </tr>\n",
       "    <tr>\n",
       "      <th>50%</th>\n",
       "      <td>249987.500000</td>\n",
       "      <td>48681.000000</td>\n",
       "    </tr>\n",
       "    <tr>\n",
       "      <th>75%</th>\n",
       "      <td>424993.250000</td>\n",
       "      <td>61758.000000</td>\n",
       "    </tr>\n",
       "    <tr>\n",
       "      <th>max</th>\n",
       "      <td>499999.000000</td>\n",
       "      <td>129492.000000</td>\n",
       "    </tr>\n",
       "  </tbody>\n",
       "</table>\n",
       "</div>"
      ],
      "text/plain": [
       "              emp_no         salary\n",
       "count  300024.000000  300024.000000\n",
       "mean   253321.763392   52970.732451\n",
       "std    161828.235540   14301.478491\n",
       "min     10001.000000   40000.000000\n",
       "25%     85006.750000   40000.000000\n",
       "50%    249987.500000   48681.000000\n",
       "75%    424993.250000   61758.000000\n",
       "max    499999.000000  129492.000000"
      ]
     },
     "execution_count": 50,
     "metadata": {},
     "output_type": "execute_result"
    }
   ],
   "source": [
    "salary_pd.describe()"
   ]
  },
  {
   "cell_type": "code",
   "execution_count": 52,
   "metadata": {},
   "outputs": [
    {
     "data": {
      "image/png": "[encoded data removed]",
      "text/plain": [
       "<Figure size 720x504 with 1 Axes>"
      ]
     },
     "metadata": {
      "needs_background": "light"
     },
     "output_type": "display_data"
    }
   ],
   "source": [
    "plt.rcParams['figure.figsize']=(10,7)\n",
    "plt.hist(salary_pd['salary'],bins=9,color='maroon',alpha=1,edgecolor='black')\n",
    "plt.title('Salary ',fontsize=20,pad=40)\n",
    "plt.xlabel('Salaries',fontsize=16,color='black',labelpad=20)\n",
    "plt.ylabel('Frequency Count',fontsize=16,color='black',labelpad=20)\n",
    "plt.xlim(36000,130000)\n",
    "plt.xticks(fontsize=12)\n",
    "plt.yticks(fontsize=12)\n",
    "plt.show()"
   ]
  },
  {
   "cell_type": "code",
   "execution_count": 53,
   "metadata": {},
   "outputs": [],
   "source": [
    "# Bar graph to show the Average salary per title (designation)\n",
    "avg_salary = spark.sql(\"\"\"select title,avg(salary) as avg_salary from employees e \n",
    "                          join titles t on e.emp_titles_id = t.title_id\n",
    "                          join salaries s on s.emp_no = e.emp_no\n",
    "                          group by title\"\"\")"
   ]
  },
  {
   "cell_type": "code",
   "execution_count": 54,
   "metadata": {},
   "outputs": [
    {
     "name": "stdout",
     "output_type": "stream",
     "text": [
      "+------------------+------------------+\n",
      "|             title|        avg_salary|\n",
      "+------------------+------------------+\n",
      "|             Staff| 58465.38285033152|\n",
      "|Assistant Engineer| 48564.43444730077|\n",
      "|      Senior Staff| 58550.17270435993|\n",
      "|   Senior Engineer| 48506.79987109579|\n",
      "|          Engineer|48535.336511426336|\n",
      "|           Manager|51531.041666666664|\n",
      "|  Technique Leader| 48582.89609189332|\n",
      "+------------------+------------------+\n",
      "\n"
     ]
    }
   ],
   "source": [
    "avg_salary.show()"
   ]
  },
  {
   "cell_type": "code",
   "execution_count": 55,
   "metadata": {},
   "outputs": [],
   "source": [
    "avg_salary_pd = avg_salary.toPandas()"
   ]
  },
  {
   "cell_type": "code",
   "execution_count": 56,
   "metadata": {},
   "outputs": [
    {
     "data": {
      "text/html": [
       "<div>\n",
       "<style scoped>\n",
       "    .dataframe tbody tr th:only-of-type {\n",
       "        vertical-align: middle;\n",
       "    }\n",
       "\n",
       "    .dataframe tbody tr th {\n",
       "        vertical-align: top;\n",
       "    }\n",
       "\n",
       "    .dataframe thead th {\n",
       "        text-align: right;\n",
       "    }\n",
       "</style>\n",
       "<table border=\"1\" class=\"dataframe\">\n",
       "  <thead>\n",
       "    <tr style=\"text-align: right;\">\n",
       "      <th></th>\n",
       "      <th>title</th>\n",
       "      <th>avg_salary</th>\n",
       "    </tr>\n",
       "  </thead>\n",
       "  <tbody>\n",
       "    <tr>\n",
       "      <th>0</th>\n",
       "      <td>Staff</td>\n",
       "      <td>58465.382850</td>\n",
       "    </tr>\n",
       "    <tr>\n",
       "      <th>1</th>\n",
       "      <td>Assistant Engineer</td>\n",
       "      <td>48564.434447</td>\n",
       "    </tr>\n",
       "    <tr>\n",
       "      <th>2</th>\n",
       "      <td>Senior Staff</td>\n",
       "      <td>58550.172704</td>\n",
       "    </tr>\n",
       "    <tr>\n",
       "      <th>3</th>\n",
       "      <td>Senior Engineer</td>\n",
       "      <td>48506.799871</td>\n",
       "    </tr>\n",
       "    <tr>\n",
       "      <th>4</th>\n",
       "      <td>Engineer</td>\n",
       "      <td>48535.336511</td>\n",
       "    </tr>\n",
       "  </tbody>\n",
       "</table>\n",
       "</div>"
      ],
      "text/plain": [
       "                title    avg_salary\n",
       "0               Staff  58465.382850\n",
       "1  Assistant Engineer  48564.434447\n",
       "2        Senior Staff  58550.172704\n",
       "3     Senior Engineer  48506.799871\n",
       "4            Engineer  48535.336511"
      ]
     },
     "execution_count": 56,
     "metadata": {},
     "output_type": "execute_result"
    }
   ],
   "source": [
    "avg_salary_pd.head()"
   ]
  },
  {
   "cell_type": "code",
   "execution_count": 57,
   "metadata": {},
   "outputs": [
    {
     "data": {
      "image/png": "[encoded data removed]",
      "text/plain": [
       "<Figure size 720x504 with 1 Axes>"
      ]
     },
     "metadata": {
      "needs_background": "light"
     },
     "output_type": "display_data"
    }
   ],
   "source": [
    "plt.figure(figsize=(10,7))\n",
    "sns.barplot(data=avg_salary_pd,x='title',y='avg_salary')\n",
    "plt.xlabel('title')\n",
    "plt.ylabel('avg_salary')\n",
    "plt.title('average salary per title')\n",
    "plt.show()"
   ]
  },
  {
   "cell_type": "code",
   "execution_count": 25,
   "metadata": {},
   "outputs": [],
   "source": [
    "# list the salary distribution by gender\n",
    "gender_salary = spark.sql(\"select sex,salary from employees e join salaries s on e.emp_no = s.emp_no\")\n"
   ]
  },
  {
   "cell_type": "code",
   "execution_count": 26,
   "metadata": {},
   "outputs": [
    {
     "data": {
      "text/plain": [
       "sex\n",
       "F    6.357161e+09\n",
       "M    9.535330e+09\n",
       "Name: salary, dtype: float64"
      ]
     },
     "execution_count": 26,
     "metadata": {},
     "output_type": "execute_result"
    }
   ],
   "source": [
    "gender_salarypd = gender_salary.toPandas()\n",
    "gender_salary1 = gender_salarypd.groupby('sex')['salary'].sum()\n",
    "gender_salary1.head()"
   ]
  },
  {
   "cell_type": "code",
   "execution_count": 28,
   "metadata": {},
   "outputs": [
    {
     "data": {
      "image/png": "[encoded data removed]",
      "text/plain": [
       "<Figure size 432x288 with 1 Axes>"
      ]
     },
     "metadata": {},
     "output_type": "display_data"
    }
   ],
   "source": [
    "plt.pie(gender_salary1,labels= ['F','M'],autopct=\"%1.0f%%\", colors = ['r','g'])\n",
    "\n",
    "plt.show()"
   ]
  },
  {
   "cell_type": "code",
   "execution_count": 29,
   "metadata": {},
   "outputs": [],
   "source": [
    "# list the salary distribution by departtments\n",
    "\n",
    "dept_project = spark.sql(\"\"\"select salary,dept_name from employees e join salaries s on e.emp_no = s.emp_no\n",
    "                            join dept_emp de on de.emp_no = e.emp_no \n",
    "                            join departments d on d.dept_no = de.dept_no\"\"\")"
   ]
  },
  {
   "cell_type": "code",
   "execution_count": 32,
   "metadata": {},
   "outputs": [],
   "source": [
    "dept_projectpd = dept_project.toPandas()\n",
    "dept_project1 = dept_projectpd.groupby('dept_name')['salary'].sum()"
   ]
  },
  {
   "cell_type": "code",
   "execution_count": 34,
   "metadata": {},
   "outputs": [
    {
     "data": {
      "image/png": "[encoded data removed]",
      "text/plain": [
       "<Figure size 432x288 with 1 Axes>"
      ]
     },
     "metadata": {},
     "output_type": "display_data"
    }
   ],
   "source": [
    "plt.pie(dept_project1,labels =['Marketing','Finance','Human_resource','Customer_service','development','Quality_Management','Sales','Research','Production'],autopct=\"%1.0f%%\", colors = ['r','g','b','y'])\n",
    "\n",
    "\n",
    "plt.show()"
   ]
  },
  {
   "cell_type": "code",
   "execution_count": 56,
   "metadata": {},
   "outputs": [],
   "source": [
    "employees.createOrReplaceTempView(\"employees\")\n",
    "departments.createOrReplaceTempView(\"departments\")\n",
    "dept_emp.createOrReplaceTempView(\"dept_emp\")\n",
    "titles.createOrReplaceTempView(\"titles\")\n",
    "salaries.createOrReplaceTempView(\"salaries\")\n",
    "dept_managers.createOrReplaceTempView(\"dept_managers\")"
   ]
  },
  {
   "cell_type": "code",
   "execution_count": 51,
   "metadata": {},
   "outputs": [
    {
     "name": "stdout",
     "output_type": "stream",
     "text": [
      "+------+----------+---------+--------------------+---------------+\n",
      "|emp_no|first_name|last_name|           dept_name|Employee_rating|\n",
      "+------+----------+---------+--------------------+---------------+\n",
      "| 10057|      Ebbe| Callaway|       \"development\"|      Excellent|\n",
      "| 10752|     Byong|    Conde|\"Quality Management\"|      Excellent|\n",
      "| 10096|    Jayson|  Mandell|        \"Production\"|      Excellent|\n",
      "| 10107|      Dung|     Baca|             \"Sales\"|      Excellent|\n",
      "| 10139|     Ewing|    Foong|       \"development\"|      Excellent|\n",
      "| 10201|     Idoia|  Kavraki|       \"development\"|      Excellent|\n",
      "| 10253|     Zsolt|  Salinas|             \"Sales\"|      Excellent|\n",
      "| 10275|     Marek|     Luck|       \"development\"|      Excellent|\n",
      "| 10394|    Shawna|  Meriste|       \"development\"|      Excellent|\n",
      "| 10410|  Takahito|   Gecsei|             \"Sales\"|      Excellent|\n",
      "| 10422|    Greger|   Rubsam|\"Quality Management\"|      Excellent|\n",
      "| 10422|    Greger|   Rubsam|        \"Production\"|      Excellent|\n",
      "| 10466|   Jiakeng|   Himler|  \"Customer Service\"|      Excellent|\n",
      "| 10518|     Marin| Lanphier|       \"development\"|      Excellent|\n",
      "| 10592|  Almudena| Alvarado|             \"Sales\"|      Excellent|\n",
      "| 10607|   Rosalyn| Hambrick|       \"development\"|      Excellent|\n",
      "| 10629|     Lalit|Francisci|             \"Sales\"|      Excellent|\n",
      "| 10645|    Fumiyo| Esposito|        \"Production\"|      Excellent|\n",
      "| 10703|      Giri|  Baumann|        \"Production\"|      Excellent|\n",
      "| 10713|    Jagoda|Naumovich|          \"Research\"|      Excellent|\n",
      "+------+----------+---------+--------------------+---------------+\n",
      "only showing top 20 rows\n",
      "\n"
     ]
    }
   ],
   "source": [
    "# Performance rating distribution\n",
    "\n",
    "spark.sql(\"\"\"select  e.emp_no,first_name,last_name,dept_name,\n",
    "                case \n",
    "                when last_performance_rating == 'S' then 'Excellent'\n",
    "                when last_performance_rating == 'PIP' then 'Poor'\n",
    "                else 'Good'\n",
    "                end as Employee_rating from employees e join dept_emp de on e.emp_no = de.emp_no\n",
    "                join departments d on d.dept_no = de.dept_no\n",
    "                order by Employee_rating\"\"\").show()"
   ]
  },
  {
   "cell_type": "code",
   "execution_count": 61,
   "metadata": {},
   "outputs": [
    {
     "name": "stdout",
     "output_type": "stream",
     "text": [
      "+------+--------------------+--------------------+------+\n",
      "|emp_no|            emp_name|           dept_name|salary|\n",
      "+------+--------------------+--------------------+------+\n",
      "| 10001|      Georgi Facello|       \"development\"| 60117|\n",
      "| 10002|      Bezalel Simmel|             \"Sales\"| 65828|\n",
      "| 10003|       Parto Bamford|        \"Production\"| 40006|\n",
      "| 10004|   Chirstian Koblick|        \"Production\"| 40054|\n",
      "| 10005|    Kyoichi Maliniak|   \"Human Resources\"| 78228|\n",
      "| 10006|      Anneke Preusig|       \"development\"| 40000|\n",
      "| 10007|   Tzvetan Zielinski|          \"Research\"| 56724|\n",
      "| 10008|     Saniya Kalloufi|       \"development\"| 46671|\n",
      "| 10009|         Sumant Peac|\"Quality Management\"| 60929|\n",
      "| 10010|  Duangkaew Piveteau|\"Quality Management\"| 72488|\n",
      "| 10010|  Duangkaew Piveteau|        \"Production\"| 72488|\n",
      "| 10011|          Mary Sluis|  \"Customer Service\"| 42365|\n",
      "| 10012|  Patricio Bridgland|       \"development\"| 40000|\n",
      "| 10013|    Eberhardt Terkki|   \"Human Resources\"| 40000|\n",
      "| 10014|         Berni Genin|       \"development\"| 46168|\n",
      "| 10015|  Guoxiang Nooteboom|          \"Research\"| 40000|\n",
      "| 10016|Kazuhito Cappelletti|             \"Sales\"| 70889|\n",
      "| 10017| Cristinel Bouloucos|         \"Marketing\"| 71380|\n",
      "| 10018|       Kazuhide Peha|       \"development\"| 55881|\n",
      "| 10018|       Kazuhide Peha|        \"Production\"| 55881|\n",
      "+------+--------------------+--------------------+------+\n",
      "only showing top 20 rows\n",
      "\n"
     ]
    }
   ],
   "source": [
    "# list the employee full name with employee number,job title,department name and salary\n",
    "\n",
    "spark.sql(\"\"\"select e.emp_no,concat(first_name,' ',last_name) as emp_name,dept_name,salary from employees e \n",
    "          join titles t on e.emp_titles_id = t.title_id\n",
    "          join dept_emp de on de.emp_no = e.emp_no\n",
    "          join salaries s on s.emp_no = e.emp_no\n",
    "          join departments d on d.dept_no = de.dept_no\"\"\").show()"
   ]
  },
  {
   "cell_type": "code",
   "execution_count": 64,
   "metadata": {},
   "outputs": [
    {
     "name": "stdout",
     "output_type": "stream",
     "text": [
      "+------+----------+----------+-----------------+----------+\n",
      "|emp_no|first_name| last_name|left_organisation| last_date|\n",
      "+------+----------+----------+-----------------+----------+\n",
      "|\n",
      "|\n",
      "|\n",
      "|\n",
      "|\n",
      "|\n",
      "|\n",
      "|\n",
      "|\n",
      "|\n",
      "|\n",
      "|\n",
      "|\n",
      "|\n",
      "|\n",
      "|\n",
      "|\n",
      "|\n",
      "|\n",
      "| 10232|     Marko|     Auria|             true|12/30/1998|\n",
      "+------+----------+----------+-----------------+----------+\n",
      "only showing top 20 rows\n",
      "\n"
     ]
    }
   ],
   "source": [
    "# list the employees who left organisation\n",
    "spark.sql(\"\"\"select emp_no,first_name,last_name,left_organisation,last_date from employees\n",
    "              where left_organisation == 1\n",
    "              \"\"\").show()"
   ]
  },
  {
   "cell_type": "code",
   "execution_count": 67,
   "metadata": {},
   "outputs": [
    {
     "name": "stdout",
     "output_type": "stream",
     "text": [
      "+------+----------+------------+---+\n",
      "|emp_no|first_name|   last_name|sex|\n",
      "+------+----------+------------+---+\n",
      "| 10315|     Maris|Angelopoulos|  M|\n",
      "| 10617|  Hidekazu|       Angel|  F|\n",
      "| 12000|    Claudi|     Angelov|  M|\n",
      "| 12090| Shigenori|Angelopoulos|  F|\n",
      "| 14675|    Teunis|       Angel|  F|\n",
      "| 14982|   Kaijung|     Angelov|  F|\n",
      "| 15661|      Zine|     Angelov|  F|\n",
      "| 15932|    Zijian|Angelopoulos|  M|\n",
      "| 16316|  Breannda|     Angelov|  M|\n",
      "| 17124|   Amabile|Angelopoulos|  F|\n",
      "| 17179|    Kellyn|       Angel|  F|\n",
      "| 17214|     Danel|     Angelov|  M|\n",
      "| 17690| Panayotis|Angelopoulos|  F|\n",
      "| 17986|      Oguz|Angelopoulos|  M|\n",
      "| 19538|   Rasikan|     Angelov|  M|\n",
      "| 19755| Stabislas|Angelopoulos|  F|\n",
      "| 20687| Augustine|     Angelov|  M|\n",
      "| 21214|     Weiru|     Angelov|  F|\n",
      "| 22869|      Kish|     Angelov|  M|\n",
      "| 23256|     Jinxi|     Angelov|  F|\n",
      "+------+----------+------------+---+\n",
      "only showing top 20 rows\n",
      "\n"
     ]
    }
   ],
   "source": [
    "# # list the employees whose last_name starting with 'ANGEL'\n",
    "spark.sql(\"\"\"select emp_no,first_name,last_name,sex from employees \n",
    "              where last_name like 'Angel%'\"\"\").show()"
   ]
  },
  {
   "cell_type": "code",
   "execution_count": null,
   "metadata": {},
   "outputs": [],
   "source": []
  }
 ],
 "metadata": {
  "kernelspec": {
   "display_name": "Python 3",
   "language": "python",
   "name": "python3"
  },
  "language_info": {
   "codemirror_mode": {
    "name": "ipython",
    "version": 3
   },
   "file_extension": ".py",
   "mimetype": "text/x-python",
   "name": "python",
   "nbconvert_exporter": "python",
   "pygments_lexer": "ipython3",
   "version": "3.7.6"
  }
 },
 "nbformat": 4,
 "nbformat_minor": 4
}
