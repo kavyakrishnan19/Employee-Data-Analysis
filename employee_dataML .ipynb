{
 "cells": [
  {
   "cell_type": "code",
   "execution_count": 1,
   "metadata": {},
   "outputs": [
    {
     "data": {
      "text/html": [
       "\n",
       "        <div>\n",
       "            <p><b>SparkContext</b></p>\n",
       "\n",
       "            <p><a href=\"http://ip-10-1-1-204.ap-south-1.compute.internal:43001\">Spark UI</a></p>\n",
       "\n",
       "            <dl>\n",
       "              <dt>Version</dt>\n",
       "                <dd><code>v2.4.0</code></dd>\n",
       "              <dt>Master</dt>\n",
       "                <dd><code>yarn</code></dd>\n",
       "              <dt>AppName</dt>\n",
       "                <dd><code>employees_data</code></dd>\n",
       "            </dl>\n",
       "        </div>\n",
       "        "
      ],
      "text/plain": [
       "<SparkContext master=yarn appName=employees_data>"
      ]
     },
     "execution_count": 1,
     "metadata": {},
     "output_type": "execute_result"
    }
   ],
   "source": [
    "from pyspark import SparkContext,SparkConf\n",
    "sconf = SparkConf().setMaster(\"yarn\").setAppName(\"employees_data\")\n",
    "sc= SparkContext(conf=sconf)\n",
    "sc"
   ]
  },
  {
   "cell_type": "code",
   "execution_count": 2,
   "metadata": {},
   "outputs": [
    {
     "data": {
      "text/html": [
       "\n",
       "            <div>\n",
       "                <p><b>SparkSession - hive</b></p>\n",
       "                \n",
       "        <div>\n",
       "            <p><b>SparkContext</b></p>\n",
       "\n",
       "            <p><a href=\"http://ip-10-1-1-204.ap-south-1.compute.internal:43001\">Spark UI</a></p>\n",
       "\n",
       "            <dl>\n",
       "              <dt>Version</dt>\n",
       "                <dd><code>v2.4.0</code></dd>\n",
       "              <dt>Master</dt>\n",
       "                <dd><code>yarn</code></dd>\n",
       "              <dt>AppName</dt>\n",
       "                <dd><code>employees_data</code></dd>\n",
       "            </dl>\n",
       "        </div>\n",
       "        \n",
       "            </div>\n",
       "        "
      ],
      "text/plain": [
       "<pyspark.sql.session.SparkSession at 0x7fad501845d0>"
      ]
     },
     "execution_count": 2,
     "metadata": {},
     "output_type": "execute_result"
    }
   ],
   "source": [
    "import sys,os\n",
    "\n",
    "os.environ[\"SPARK_HOME\"] = '/opt/cloudera/parcels/CDH/lib/spark'\n",
    "\n",
    "sys.path.append('/opt/cloudera/parcels/CDH/lib/spark/python')\n",
    "\n",
    "sys.path.append('/opt/cloudera/parcels/CDH/lib/spark/python/lib/py4j-0.9-src.zip')\n",
    "\n",
    "import pyspark\n",
    "\n",
    "import findspark\n",
    "\n",
    "findspark.init()\n",
    "\n",
    "from pyspark.sql import SparkSession\n",
    "from pyspark.sql.types import *\n",
    "from pyspark.sql.functions import *\n",
    "spark = SparkSession.builder.appName(\"employees_data\").config(\"hive.metastore.uris\",\"thrift://ip-10-1-2-24.ap-south-1.compute.internal:9083\").enableHiveSupport().getOrCreate()\n",
    "spark"
   ]
  },
  {
   "cell_type": "code",
   "execution_count": 3,
   "metadata": {},
   "outputs": [],
   "source": [
    "from pyspark.sql import SQLContext,Row"
   ]
  },
  {
   "cell_type": "code",
   "execution_count": 12,
   "metadata": {},
   "outputs": [],
   "source": [
    "employees = spark.sql(\"select * from employee_db.employees\")"
   ]
  },
  {
   "cell_type": "code",
   "execution_count": 13,
   "metadata": {},
   "outputs": [],
   "source": [
    "departments = spark.sql(\"select * from employee_db.departments\")"
   ]
  },
  {
   "cell_type": "code",
   "execution_count": 14,
   "metadata": {},
   "outputs": [],
   "source": [
    "dept_emp = spark.sql(\"select * from employee_db.dept_emp\")"
   ]
  },
  {
   "cell_type": "code",
   "execution_count": 15,
   "metadata": {},
   "outputs": [],
   "source": [
    "dept_managers = spark.sql(\"select * from employee_db.dept_managers\")"
   ]
  },
  {
   "cell_type": "code",
   "execution_count": 16,
   "metadata": {},
   "outputs": [],
   "source": [
    "titles = spark.sql(\"select * from employee_db.titles\")"
   ]
  },
  {
   "cell_type": "code",
   "execution_count": 17,
   "metadata": {},
   "outputs": [],
   "source": [
    "salaries = spark.sql(\"select * from employee_db.salaries\")"
   ]
  },
  {
   "cell_type": "code",
   "execution_count": 19,
   "metadata": {},
   "outputs": [],
   "source": [
    "employees.createOrReplaceTempView(\"employees\")\n",
    "departments.createOrReplaceTempView(\"departments\")\n",
    "dept_emp.createOrReplaceTempView(\"dept_emp\")\n",
    "titles.createOrReplaceTempView(\"titles\")\n",
    "salaries.createOrReplaceTempView(\"salaries\")\n",
    "dept_managers.createOrReplaceTempView(\"dept_managers\")"
   ]
  },
  {
   "cell_type": "code",
   "execution_count": 20,
   "metadata": {},
   "outputs": [],
   "source": [
    "df = spark.sql(\"\"\"select e.*,d.dept_no,d.dept_name,t.title_id,t.title,s.salary from employees e \n",
    "               join titles t on e.emp_titles_id = t.title_id\n",
    "               join dept_emp de on e.emp_no = de.emp_no\n",
    "               join departments d on d.dept_no = de.dept_no\n",
    "               join salaries s on e.emp_no = s.emp_no\n",
    "               \"\"\")"
   ]
  },
  {
   "cell_type": "code",
   "execution_count": 21,
   "metadata": {},
   "outputs": [
    {
     "name": "stdout",
     "output_type": "stream",
     "text": [
      "+------+-------------+----------+----------+---------+---+----------+--------------+-----------------------+-----------------+----------+-------+-----------------+--------+---------------+------+\n",
      "|emp_no|emp_titles_id|birth_date|first_name|last_name|sex| hire_date|no_of_projects|last_performance_rating|left_organisation| last_date|dept_no|        dept_name|title_id|          title|salary|\n",
      "+------+-------------+----------+----------+---------+---+----------+--------------+-----------------------+-----------------+----------+-------+-----------------+--------+---------------+------+\n",
      "|   d005|    \"development\"|   e0003|Senior Engineer| 60117|\n",
      "|   d007|          \"Sales\"|   s0001|          Staff| 65828|\n",
      "|   d004|     \"Production\"|   e0003|Senior Engineer| 40006|\n",
      "|   d004|     \"Production\"|   e0003|Senior Engineer| 40054|\n",
      "|   d003|\"Human Resources\"|   s0001|          Staff| 78228|\n",
      "+------+-------------+----------+----------+---------+---+----------+--------------+-----------------------+-----------------+----------+-------+-----------------+--------+---------------+------+\n",
      "only showing top 5 rows\n",
      "\n"
     ]
    }
   ],
   "source": [
    "df.show(5)"
   ]
  },
  {
   "cell_type": "code",
   "execution_count": 14,
   "metadata": {},
   "outputs": [
    {
     "name": "stdout",
     "output_type": "stream",
     "text": [
      "root\n",
      " |-- emp_no: integer (nullable = true)\n",
      " |-- emp_titles_id: string (nullable = true)\n",
      " |-- birth_date: string (nullable = true)\n",
      " |-- first_name: string (nullable = true)\n",
      " |-- last_name: string (nullable = true)\n",
      " |-- sex: string (nullable = true)\n",
      " |-- hire_date: string (nullable = true)\n",
      " |-- no_of_projects: integer (nullable = true)\n",
      " |-- last_performance_rating: string (nullable = true)\n",
      " |-- left_organisation: boolean (nullable = true)\n",
      " |-- last_date: string (nullable = true)\n",
      " |-- dept_no: string (nullable = true)\n",
      " |-- dept_name: string (nullable = true)\n",
      " |-- title_id: string (nullable = true)\n",
      " |-- title: string (nullable = true)\n",
      " |-- salary: integer (nullable = true)\n",
      "\n"
     ]
    }
   ],
   "source": [
    "df.printSchema()"
   ]
  },
  {
   "cell_type": "code",
   "execution_count": 15,
   "metadata": {},
   "outputs": [
    {
     "data": {
      "text/plain": [
       "331603"
      ]
     },
     "execution_count": 15,
     "metadata": {},
     "output_type": "execute_result"
    }
   ],
   "source": [
    "df.count()"
   ]
  },
  {
   "cell_type": "code",
   "execution_count": 16,
   "metadata": {},
   "outputs": [
    {
     "name": "stdout",
     "output_type": "stream",
     "text": [
      "+-------+------------------+-------------+----------+----------+---------+------+---------+------------------+-----------------------+---------+-------+------------------+--------+------------------+-----------------+\n",
      "|summary|            emp_no|emp_titles_id|birth_date|first_name|last_name|   sex|hire_date|    no_of_projects|last_performance_rating|last_date|dept_no|         dept_name|title_id|             title|           salary|\n",
      "+-------+------------------+-------------+----------+----------+---------+------+---------+------------------+-----------------------+---------+-------+------------------+--------+------------------+-----------------+\n",
      "|  count|            331603|       331603|    331603|    331603|   331603|331603|   331603|            331603|                 331603|   331603| 331603|            331603|  331603|            331603|           331603|\n",
      "|   mean|253332.60502468314|         null|      null|      null|     null|  null|     null|5.5048567111877755|                   null|     null|   null|              null|    null|              null|52972.22543221865|\n",
      "| stddev|161831.91944548982|         null|      null|      null|     null|  null|     null| 2.872828503883301|                   null|     null|   null|              null|    null|              null|14299.00300080596|\n",
      "|   d001|\"Customer Service\"|   e0001|Assistant Engineer|            40000|\n",
      "|    25%|             84976|         null|      null|      null|     null|  null|     null|                 3|                   null|     null|   null|              null|    null|              null|            40000|\n",
      "|    50%|            249971|         null|      null|      null|     null|  null|     null|                 6|                   null|     null|   null|              null|    null|              null|            48691|\n",
      "|    75%|            424972|         null|      null|      null|     null|  null|     null|                 8|                   null|     null|   null|              null|    null|              null|            61764|\n",
      "|   d009|     \"development\"|   s0002|  Technique Leader|           129492|\n",
      "+-------+------------------+-------------+----------+----------+---------+------+---------+------------------+-----------------------+---------+-------+------------------+--------+------------------+-----------------+\n",
      "\n"
     ]
    }
   ],
   "source": [
    "df.summary().show()"
   ]
  },
  {
   "cell_type": "markdown",
   "metadata": {},
   "source": [
    "# Exploring the data"
   ]
  },
  {
   "cell_type": "code",
   "execution_count": 17,
   "metadata": {},
   "outputs": [],
   "source": [
    "df = df.withColumn(\"left_organisation\",df.left_organisation.cast(\"int\"))"
   ]
  },
  {
   "cell_type": "code",
   "execution_count": 18,
   "metadata": {},
   "outputs": [
    {
     "name": "stdout",
     "output_type": "stream",
     "text": [
      "+-----------------+\n",
      "|left_organisation|\n",
      "+-----------------+\n",
      "|                1|\n",
      "|                0|\n",
      "|                0|\n",
      "|                0|\n",
      "|                0|\n",
      "|                0|\n",
      "|                1|\n",
      "|                0|\n",
      "|                0|\n",
      "|                0|\n",
      "+-----------------+\n",
      "only showing top 10 rows\n",
      "\n"
     ]
    }
   ],
   "source": [
    "df.select(['left_organisation']).show(10)"
   ]
  },
  {
   "cell_type": "code",
   "execution_count": 19,
   "metadata": {},
   "outputs": [],
   "source": [
    "df_pd = df.toPandas()"
   ]
  },
  {
   "cell_type": "code",
   "execution_count": 20,
   "metadata": {},
   "outputs": [
    {
     "data": {
      "text/plain": [
       "emp_no                     0\n",
       "emp_titles_id              0\n",
       "birth_date                 0\n",
       "first_name                 0\n",
       "last_name                  0\n",
       "sex                        0\n",
       "hire_date                  0\n",
       "no_of_projects             0\n",
       "last_performance_rating    0\n",
       "left_organisation          0\n",
       "last_date                  0\n",
       "dept_no                    0\n",
       "dept_name                  0\n",
       "title_id                   0\n",
       "title                      0\n",
       "salary                     0\n",
       "dtype: int64"
      ]
     },
     "execution_count": 20,
     "metadata": {},
     "output_type": "execute_result"
    }
   ],
   "source": [
    "df_pd.isna().sum()"
   ]
  },
  {
   "cell_type": "code",
   "execution_count": 21,
   "metadata": {},
   "outputs": [],
   "source": [
    "#Visualization\n",
    "import numpy as np\n",
    "import pandas as pd\n",
    "import matplotlib.pyplot as plt\n",
    "import seaborn as sns\n",
    "%matplotlib inline"
   ]
  },
  {
   "cell_type": "code",
   "execution_count": 22,
   "metadata": {},
   "outputs": [
    {
     "data": {
      "image/png": "[encoded data removed]",
      "text/plain": [
       "<Figure size 720x504 with 1 Axes>"
      ]
     },
     "metadata": {
      "needs_background": "light"
     },
     "output_type": "display_data"
    }
   ],
   "source": [
    "plt.rcParams['figure.figsize']=(10,7)\n",
    "plt.hist(df_pd['salary'],bins=9,color='maroon',alpha=1,edgecolor='black')\n",
    "plt.title('Salary ',fontsize=20,pad=40)\n",
    "plt.xlabel('Salaries',fontsize=16,color='black',labelpad=20)\n",
    "plt.ylabel('Frequency Count',fontsize=16,color='black',labelpad=20)\n",
    "plt.xlim(36000,130000)\n",
    "plt.xticks(fontsize=12)\n",
    "plt.yticks(fontsize=12)\n",
    "plt.show()"
   ]
  },
  {
   "cell_type": "code",
   "execution_count": 23,
   "metadata": {},
   "outputs": [
    {
     "data": {
      "image/png": "[encoded data removed]",
      "text/plain": [
       "<Figure size 720x504 with 1 Axes>"
      ]
     },
     "metadata": {
      "needs_background": "light"
     },
     "output_type": "display_data"
    }
   ],
   "source": [
    "plt.figure(figsize=(10,7))\n",
    "sns.barplot(data=df_pd,x='title',y='salary')\n",
    "plt.xlabel('title')\n",
    "plt.ylabel('salary')\n",
    "plt.title('salary per title')\n",
    "plt.show()"
   ]
  },
  {
   "cell_type": "code",
   "execution_count": 45,
   "metadata": {},
   "outputs": [
    {
     "name": "stderr",
     "output_type": "stream",
     "text": [
      "Exception ignored in: <function JavaWrapper.__del__ at 0x7fdad9ebe290>\n",
      "Traceback (most recent call last):\n",
      "  File \"/opt/anaconda3/lib/python3.7/site-packages/pyspark/ml/wrapper.py\", line 40, in __del__\n",
      "    if SparkContext._active_spark_context and self._java_obj is not None:\n",
      "AttributeError: 'OneHotEncoder' object has no attribute '_java_obj'\n"
     ]
    },
    {
     "data": {
      "image/png": "[encoded data removed]",
      "text/plain": [
       "<Figure size 720x504 with 1 Axes>"
      ]
     },
     "metadata": {
      "needs_background": "light"
     },
     "output_type": "display_data"
    }
   ],
   "source": [
    "plt.figure(figsize=(10,7))\n",
    "sns.barplot(data=df_pd,x='dept_name',y='salary')\n",
    "plt.xlabel('title')\n",
    "plt.ylabel('salary')\n",
    "plt.title('salary per department')\n",
    "plt.xticks(rotation = 90)\n",
    "plt.show()"
   ]
  },
  {
   "cell_type": "code",
   "execution_count": 54,
   "metadata": {},
   "outputs": [
    {
     "data": {
      "image/png": "[encoded data removed]",
      "text/plain": [
       "<Figure size 720x504 with 1 Axes>"
      ]
     },
     "metadata": {},
     "output_type": "display_data"
    }
   ],
   "source": [
    "gender_salary = df_pd.groupby('sex')['salary'].sum()\n",
    "\n",
    "plt.pie(gender_salary,labels= ['F','M'],autopct=\"%1.0f%%\", colors = ['r','g'])\n",
    "\n",
    "\n",
    "plt.show()"
   ]
  },
  {
   "cell_type": "code",
   "execution_count": 56,
   "metadata": {},
   "outputs": [
    {
     "data": {
      "image/png": "[encoded data removed]",
      "text/plain": [
       "<Figure size 720x504 with 1 Axes>"
      ]
     },
     "metadata": {},
     "output_type": "display_data"
    }
   ],
   "source": [
    "dept_project = df_pd.groupby('dept_name')['no_of_projects'].sum()\n",
    "\n",
    "plt.pie(dept_project,labels =['Marketing','Finance','Human_resource','Customer_service','development','Quality_Management','Sales','Research','Production'],autopct=\"%1.0f%%\", colors = ['r','g','b','y'])\n",
    "\n",
    "\n",
    "plt.show()"
   ]
  },
  {
   "cell_type": "markdown",
   "metadata": {},
   "source": [
    "# data prep"
   ]
  },
  {
   "cell_type": "code",
   "execution_count": 22,
   "metadata": {},
   "outputs": [],
   "source": [
    "df1 = df"
   ]
  },
  {
   "cell_type": "code",
   "execution_count": 23,
   "metadata": {},
   "outputs": [],
   "source": [
    "#Columns that will be used as features and their types\n",
    "continuous_features = ['salary','no_of_projects']\n",
    "                    \n",
    "categorical_features = ['dept_name', 'dept_no','title']"
   ]
  },
  {
   "cell_type": "code",
   "execution_count": 24,
   "metadata": {},
   "outputs": [],
   "source": [
    "#Encoding all categorical features\n",
    "from pyspark.ml.feature import OneHotEncoderEstimator, StringIndexer, VectorAssembler, PolynomialExpansion, VectorIndexer"
   ]
  },
  {
   "cell_type": "code",
   "execution_count": 25,
   "metadata": {},
   "outputs": [],
   "source": [
    "#create object of StringIndexer class and specify input and output column\n",
    "SI_dept_no = StringIndexer(inputCol='dept_no', outputCol='dept_no_Index')\n",
    "SI_dept_name = StringIndexer(inputCol='dept_name', outputCol='dept_name_Index')\n",
    "SI_title = StringIndexer(inputCol='title', outputCol='title_Index')"
   ]
  },
  {
   "cell_type": "code",
   "execution_count": 26,
   "metadata": {},
   "outputs": [],
   "source": [
    "# transform the data\n",
    "df1 = SI_dept_no.fit(df1).transform(df1)\n",
    "df1 = SI_dept_name.fit(df1).transform(df1)\n",
    "df1 = SI_title.fit(df1).transform(df1)"
   ]
  },
  {
   "cell_type": "code",
   "execution_count": 65,
   "metadata": {},
   "outputs": [
    {
     "name": "stdout",
     "output_type": "stream",
     "text": [
      "+-------+--------------------+------------------+-------------+---------------+-----------+\n",
      "|dept_no|           dept_name|             title|dept_no_Index|dept_name_Index|title_Index|\n",
      "+-------+--------------------+------------------+-------------+---------------+-----------+\n",
      "|   d005|       \"development\"|   Senior Engineer|          0.0|            0.0|        1.0|\n",
      "|   d007|             \"Sales\"|             Staff|          2.0|            2.0|        0.0|\n",
      "|   d004|        \"Production\"|   Senior Engineer|          1.0|            1.0|        1.0|\n",
      "|   d004|        \"Production\"|   Senior Engineer|          1.0|            1.0|        1.0|\n",
      "|   d003|   \"Human Resources\"|             Staff|          7.0|            7.0|        0.0|\n",
      "|   d005|       \"development\"|   Senior Engineer|          0.0|            0.0|        1.0|\n",
      "|   d008|          \"Research\"|             Staff|          4.0|            4.0|        0.0|\n",
      "|   d005|       \"development\"|Assistant Engineer|          0.0|            0.0|        5.0|\n",
      "|   d006|\"Quality Management\"|   Senior Engineer|          6.0|            6.0|        1.0|\n",
      "|   d006|\"Quality Management\"|          Engineer|          6.0|            6.0|        2.0|\n",
      "+-------+--------------------+------------------+-------------+---------------+-----------+\n",
      "only showing top 10 rows\n",
      "\n"
     ]
    }
   ],
   "source": [
    "# veiw the transformed data\n",
    "df1.select(['dept_no','dept_name','title','dept_no_Index','dept_name_Index','title_Index']).show(10)"
   ]
  },
  {
   "cell_type": "code",
   "execution_count": 27,
   "metadata": {},
   "outputs": [],
   "source": [
    "#create object and specify input and output column\n",
    "OHE = OneHotEncoderEstimator(inputCols=['dept_name_Index', 'dept_no_Index','title_Index'],outputCols=['dept_name_Vec', 'dept_no_Vec','title_Vec'])\n"
   ]
  },
  {
   "cell_type": "code",
   "execution_count": 28,
   "metadata": {},
   "outputs": [],
   "source": [
    "df1 = OHE.fit(df1).transform(df1)"
   ]
  },
  {
   "cell_type": "code",
   "execution_count": 70,
   "metadata": {},
   "outputs": [
    {
     "name": "stdout",
     "output_type": "stream",
     "text": [
      "+-------------+---------------+-----------+-------------+-------------+-------------+\n",
      "|dept_no_Index|dept_name_Index|title_Index|dept_name_Vec|  dept_no_Vec|    title_Vec|\n",
      "+-------------+---------------+-----------+-------------+-------------+-------------+\n",
      "|          0.0|            0.0|        1.0|(8,[0],[1.0])|(8,[0],[1.0])|(6,[1],[1.0])|\n",
      "|          2.0|            2.0|        0.0|(8,[2],[1.0])|(8,[2],[1.0])|(6,[0],[1.0])|\n",
      "|          1.0|            1.0|        1.0|(8,[1],[1.0])|(8,[1],[1.0])|(6,[1],[1.0])|\n",
      "|          1.0|            1.0|        1.0|(8,[1],[1.0])|(8,[1],[1.0])|(6,[1],[1.0])|\n",
      "|          7.0|            7.0|        0.0|(8,[7],[1.0])|(8,[7],[1.0])|(6,[0],[1.0])|\n",
      "|          0.0|            0.0|        1.0|(8,[0],[1.0])|(8,[0],[1.0])|(6,[1],[1.0])|\n",
      "|          4.0|            4.0|        0.0|(8,[4],[1.0])|(8,[4],[1.0])|(6,[0],[1.0])|\n",
      "|          0.0|            0.0|        5.0|(8,[0],[1.0])|(8,[0],[1.0])|(6,[5],[1.0])|\n",
      "|          6.0|            6.0|        1.0|(8,[6],[1.0])|(8,[6],[1.0])|(6,[1],[1.0])|\n",
      "|          6.0|            6.0|        2.0|(8,[6],[1.0])|(8,[6],[1.0])|(6,[2],[1.0])|\n",
      "+-------------+---------------+-----------+-------------+-------------+-------------+\n",
      "only showing top 10 rows\n",
      "\n"
     ]
    }
   ],
   "source": [
    "df1.select(['dept_no_Index','dept_name_Index','title_Index','dept_name_Vec', 'dept_no_Vec','title_Vec']).show(10)"
   ]
  },
  {
   "cell_type": "code",
   "execution_count": 29,
   "metadata": {},
   "outputs": [],
   "source": [
    "featureCols = continuous_features + ['dept_name_Vec', 'dept_no_Vec','title_Vec'] "
   ]
  },
  {
   "cell_type": "markdown",
   "metadata": {},
   "source": [
    "# Assembler"
   ]
  },
  {
   "cell_type": "code",
   "execution_count": 30,
   "metadata": {},
   "outputs": [],
   "source": [
    "assembler = VectorAssembler( inputCols = featureCols, outputCol = \"features\")"
   ]
  },
  {
   "cell_type": "code",
   "execution_count": 31,
   "metadata": {},
   "outputs": [],
   "source": [
    "df_train = assembler.transform( df1)"
   ]
  },
  {
   "cell_type": "code",
   "execution_count": 32,
   "metadata": {},
   "outputs": [],
   "source": [
    "df_train = df_train.withColumn('label', df_train['left_organisation'].cast('integer'))"
   ]
  },
  {
   "cell_type": "code",
   "execution_count": 33,
   "metadata": {},
   "outputs": [],
   "source": [
    "#Split the dataset\n",
    "train_df, test_df = df_train.randomSplit( [0.7, 0.3], seed = 53 )"
   ]
  },
  {
   "cell_type": "code",
   "execution_count": 83,
   "metadata": {},
   "outputs": [
    {
     "name": "stdout",
     "output_type": "stream",
     "text": [
      "+------+-------------+----------+----------+---------+---+---------+--------------+-----------------------+-----------------+----------+-------+--------------------+--------+---------------+------+-------------+---------------+-----------+-------------+-------------+-------------+--------------------+-----+\n",
      "|emp_no|emp_titles_id|birth_date|first_name|last_name|sex|hire_date|no_of_projects|last_performance_rating|left_organisation| last_date|dept_no|           dept_name|title_id|          title|salary|dept_no_Index|dept_name_Index|title_Index|dept_name_Vec|  dept_no_Vec|    title_Vec|            features|label|\n",
      "+------+-------------+----------+----------+---------+---+---------+--------------+-----------------------+-----------------+----------+-------+--------------------+--------+---------------+------+-------------+---------------+-----------+-------------+-------------+-------------+--------------------+-----+\n",
      "|   d005|       \"development\"|   e0003|Senior Engineer| 60117|          0.0|            0.0|        1.0|(8,[0],[1.0])|(8,[0],[1.0])|(6,[1],[1.0])|(24,[0,1,2,10,19]...|    1|\n",
      "|   d004|        \"Production\"|   e0003|Senior Engineer| 40006|          1.0|            1.0|        1.0|(8,[1],[1.0])|(8,[1],[1.0])|(6,[1],[1.0])|(24,[0,1,3,11,19]...|    0|\n",
      "|   d004|        \"Production\"|   e0003|Senior Engineer| 40054|          1.0|            1.0|        1.0|(8,[1],[1.0])|(8,[1],[1.0])|(6,[1],[1.0])|(24,[0,1,3,11,19]...|    0|\n",
      "|   d003|   \"Human Resources\"|   s0001|          Staff| 78228|          7.0|            7.0|        0.0|(8,[7],[1.0])|(8,[7],[1.0])|(6,[0],[1.0])|(24,[0,1,9,17,18]...|    0|\n",
      "|   d006|\"Quality Management\"|   e0003|Senior Engineer| 60929|          6.0|            6.0|        1.0|(8,[6],[1.0])|(8,[6],[1.0])|(6,[1],[1.0])|(24,[0,1,8,16,19]...|    0|\n",
      "+------+-------------+----------+----------+---------+---+---------+--------------+-----------------------+-----------------+----------+-------+--------------------+--------+---------------+------+-------------+---------------+-----------+-------------+-------------+-------------+--------------------+-----+\n",
      "only showing top 5 rows\n",
      "\n"
     ]
    }
   ],
   "source": [
    "train_df.show(5)"
   ]
  },
  {
   "cell_type": "code",
   "execution_count": 84,
   "metadata": {},
   "outputs": [
    {
     "name": "stdout",
     "output_type": "stream",
     "text": [
      "+------+-------------+----------+----------+---------+---+----------+--------------+-----------------------+-----------------+----------+-------+-------------+--------+------------------+------+-------------+---------------+-----------+-------------+-------------+-------------+--------------------+-----+\n",
      "|emp_no|emp_titles_id|birth_date|first_name|last_name|sex| hire_date|no_of_projects|last_performance_rating|left_organisation| last_date|dept_no|    dept_name|title_id|             title|salary|dept_no_Index|dept_name_Index|title_Index|dept_name_Vec|  dept_no_Vec|    title_Vec|            features|label|\n",
      "+------+-------------+----------+----------+---------+---+----------+--------------+-----------------------+-----------------+----------+-------+-------------+--------+------------------+------+-------------+---------------+-----------+-------------+-------------+-------------+--------------------+-----+\n",
      "|   d007|      \"Sales\"|   s0001|             Staff| 65828|          2.0|            2.0|        0.0|(8,[2],[1.0])|(8,[2],[1.0])|(6,[0],[1.0])|(24,[0,1,4,12,18]...|    0|\n",
      "|   d005|\"development\"|   e0003|   Senior Engineer| 40000|          0.0|            0.0|        1.0|(8,[0],[1.0])|(8,[0],[1.0])|(6,[1],[1.0])|(24,[0,1,2,10,19]...|    0|\n",
      "|   d008|   \"Research\"|   s0001|             Staff| 56724|          4.0|            4.0|        0.0|(8,[4],[1.0])|(8,[4],[1.0])|(6,[0],[1.0])|(24,[0,1,6,14,18]...|    1|\n",
      "|   d005|\"development\"|   e0001|Assistant Engineer| 46671|          0.0|            0.0|        5.0|(8,[0],[1.0])|(8,[0],[1.0])|(6,[5],[1.0])|(24,[0,1,2,10,23]...|    0|\n",
      "|   d004| \"Production\"|   e0002|          Engineer| 72488|          1.0|            1.0|        2.0|(8,[1],[1.0])|(8,[1],[1.0])|(6,[2],[1.0])|(24,[0,1,3,11,20]...|    0|\n",
      "+------+-------------+----------+----------+---------+---+----------+--------------+-----------------------+-----------------+----------+-------+-------------+--------+------------------+------+-------------+---------------+-----------+-------------+-------------+-------------+--------------------+-----+\n",
      "only showing top 5 rows\n",
      "\n"
     ]
    }
   ],
   "source": [
    "test_df.show(5)"
   ]
  },
  {
   "cell_type": "code",
   "execution_count": 85,
   "metadata": {},
   "outputs": [
    {
     "data": {
      "text/plain": [
       "232080"
      ]
     },
     "execution_count": 85,
     "metadata": {},
     "output_type": "execute_result"
    }
   ],
   "source": [
    "train_df.count()"
   ]
  },
  {
   "cell_type": "code",
   "execution_count": 86,
   "metadata": {},
   "outputs": [
    {
     "data": {
      "text/plain": [
       "99523"
      ]
     },
     "execution_count": 86,
     "metadata": {},
     "output_type": "execute_result"
    }
   ],
   "source": [
    "test_df.count()"
   ]
  },
  {
   "cell_type": "code",
   "execution_count": 34,
   "metadata": {},
   "outputs": [],
   "source": [
    "from pyspark.ml.classification import LogisticRegression\n",
    "from pyspark.ml.evaluation import MulticlassClassificationEvaluator, BinaryClassificationEvaluator"
   ]
  },
  {
   "cell_type": "code",
   "execution_count": 35,
   "metadata": {},
   "outputs": [],
   "source": [
    "logreg = LogisticRegression()"
   ]
  },
  {
   "cell_type": "code",
   "execution_count": null,
   "metadata": {},
   "outputs": [],
   "source": [
    "lm = logreg.fit( train_df )"
   ]
  },
  {
   "cell_type": "code",
   "execution_count": 81,
   "metadata": {},
   "outputs": [],
   "source": [
    "#Make predictions on train data and evaluate\n",
    "y_pred_train = lm.transform(train_df)"
   ]
  },
  {
   "cell_type": "code",
   "execution_count": 82,
   "metadata": {},
   "outputs": [],
   "source": [
    "y_pred_test = lm.transform( test_df )"
   ]
  },
  {
   "cell_type": "code",
   "execution_count": 90,
   "metadata": {},
   "outputs": [
    {
     "name": "stdout",
     "output_type": "stream",
     "text": [
      "+--------------------+-----+----------+-----------------+\n",
      "|            features|label|prediction|left_organisation|\n",
      "+--------------------+-----+----------+-----------------+\n",
      "|(24,[0,1,2,10,19]...|    1|       0.0|             true|\n",
      "|(24,[0,1,3,11,19]...|    0|       0.0|            false|\n",
      "|(24,[0,1,3,11,19]...|    0|       0.0|            false|\n",
      "|(24,[0,1,9,17,18]...|    0|       0.0|            false|\n",
      "|(24,[0,1,8,16,19]...|    0|       0.0|            false|\n",
      "+--------------------+-----+----------+-----------------+\n",
      "only showing top 5 rows\n",
      "\n"
     ]
    }
   ],
   "source": [
    "y_pred_train.select( 'features',  'label', 'prediction', 'left_organisation').show(5)"
   ]
  },
  {
   "cell_type": "code",
   "execution_count": 94,
   "metadata": {},
   "outputs": [
    {
     "data": {
      "text/plain": [
       "-2.1982377292382327"
      ]
     },
     "execution_count": 94,
     "metadata": {},
     "output_type": "execute_result"
    }
   ],
   "source": [
    "lm.intercept"
   ]
  },
  {
   "cell_type": "code",
   "execution_count": 98,
   "metadata": {},
   "outputs": [
    {
     "data": {
      "text/plain": [
       "0.9003921061702861"
      ]
     },
     "execution_count": 98,
     "metadata": {},
     "output_type": "execute_result"
    }
   ],
   "source": [
    "summary = lm.summary\n",
    "summary.accuracy"
   ]
  },
  {
   "cell_type": "code",
   "execution_count": 100,
   "metadata": {},
   "outputs": [
    {
     "data": {
      "text/plain": [
       "0.5079540085134115"
      ]
     },
     "execution_count": 100,
     "metadata": {},
     "output_type": "execute_result"
    }
   ],
   "source": [
    "summary.areaUnderROC"
   ]
  },
  {
   "cell_type": "code",
   "execution_count": 105,
   "metadata": {},
   "outputs": [
    {
     "name": "stdout",
     "output_type": "stream",
     "text": [
      "Area under ROC or train dataset 0.5079540085134115\n",
      "Area under ROC or test dataset 0.504885272172025\n"
     ]
    }
   ],
   "source": [
    "print('Area under ROC or train dataset',summary.areaUnderROC)\n",
    "print('Area under ROC or test dataset',BinaryClassificationEvaluator(labelCol=\"label\", rawPredictionCol=\"rawPrediction\", metricName=\"areaUnderROC\").evaluate(y_pred_test))"
   ]
  },
  {
   "cell_type": "code",
   "execution_count": 91,
   "metadata": {},
   "outputs": [
    {
     "name": "stdout",
     "output_type": "stream",
     "text": [
      "+--------------------+-----+----------+-----------------+\n",
      "|            features|label|prediction|left_organisation|\n",
      "+--------------------+-----+----------+-----------------+\n",
      "|(24,[0,1,4,12,18]...|    0|       0.0|            false|\n",
      "|(24,[0,1,2,10,19]...|    0|       0.0|            false|\n",
      "|(24,[0,1,6,14,18]...|    1|       0.0|             true|\n",
      "|(24,[0,1,2,10,23]...|    0|       0.0|            false|\n",
      "|(24,[0,1,3,11,20]...|    0|       0.0|            false|\n",
      "+--------------------+-----+----------+-----------------+\n",
      "only showing top 5 rows\n",
      "\n"
     ]
    }
   ],
   "source": [
    "y_pred_test.select( 'features',  'label', 'prediction', 'left_organisation').show(5)"
   ]
  },
  {
   "cell_type": "code",
   "execution_count": 124,
   "metadata": {},
   "outputs": [],
   "source": [
    "## Random Forest Classifier\n",
    "from pyspark.ml.classification import RandomForestClassifier\n",
    "rfm = RandomForestClassifier(featuresCol=\"features\",\n",
    "                              labelCol=\"label\",\n",
    "                              numTrees=50,\n",
    "                              maxDepth=5,\n",
    "                              featureSubsetStrategy='onethird')\n",
    "rfm1 = rfm.fit( train_df )"
   ]
  },
  {
   "cell_type": "code",
   "execution_count": 125,
   "metadata": {},
   "outputs": [
    {
     "name": "stdout",
     "output_type": "stream",
     "text": [
      "+------+-------------+----------+----------+---------+---+----------+--------------+-----------------------+-----------------+----------+-------+-------------+--------+------------------+------+-------------+---------------+-----------+-------------+-------------+-------------+--------------------+-----+--------------------+--------------------+----------+\n",
      "|emp_no|emp_titles_id|birth_date|first_name|last_name|sex| hire_date|no_of_projects|last_performance_rating|left_organisation| last_date|dept_no|    dept_name|title_id|             title|salary|dept_no_Index|dept_name_Index|title_Index|dept_name_Vec|  dept_no_Vec|    title_Vec|            features|label|       rawPrediction|         probability|prediction|\n",
      "+------+-------------+----------+----------+---------+---+----------+--------------+-----------------------+-----------------+----------+-------+-------------+--------+------------------+------+-------------+---------------+-----------+-------------+-------------+-------------+--------------------+-----+--------------------+--------------------+----------+\n",
      "|   d007|      \"Sales\"|   s0001|             Staff| 65828|          2.0|            2.0|        0.0|(8,[2],[1.0])|(8,[2],[1.0])|(6,[0],[1.0])|(24,[0,1,4,12,18]...|    0|[45.0076628975227...|[0.90015325795045...|       0.0|\n",
      "|   d005|\"development\"|   e0003|   Senior Engineer| 40000|          0.0|            0.0|        1.0|(8,[0],[1.0])|(8,[0],[1.0])|(6,[1],[1.0])|(24,[0,1,2,10,19]...|    0|[44.9958253536698...|[0.89991650707339...|       0.0|\n",
      "|   d008|   \"Research\"|   s0001|             Staff| 56724|          4.0|            4.0|        0.0|(8,[4],[1.0])|(8,[4],[1.0])|(6,[0],[1.0])|(24,[0,1,6,14,18]...|    1|[45.0247980471607...|[0.90049596094321...|       0.0|\n",
      "|   d005|\"development\"|   e0001|Assistant Engineer| 46671|          0.0|            0.0|        5.0|(8,[0],[1.0])|(8,[0],[1.0])|(6,[5],[1.0])|(24,[0,1,2,10,23]...|    0|[45.0119901366541...|[0.90023980273308...|       0.0|\n",
      "|   d004| \"Production\"|   e0002|          Engineer| 72488|          1.0|            1.0|        2.0|(8,[1],[1.0])|(8,[1],[1.0])|(6,[2],[1.0])|(24,[0,1,3,11,20]...|    0|[45.0477539689236...|[0.90095507937847...|       0.0|\n",
      "+------+-------------+----------+----------+---------+---+----------+--------------+-----------------------+-----------------+----------+-------+-------------+--------+------------------+------+-------------+---------------+-----------+-------------+-------------+-------------+--------------------+-----+--------------------+--------------------+----------+\n",
      "only showing top 5 rows\n",
      "\n"
     ]
    }
   ],
   "source": [
    "pred = rfm.transform(test_df)\n",
    "pred.show(5)"
   ]
  },
  {
   "cell_type": "code",
   "execution_count": 126,
   "metadata": {},
   "outputs": [],
   "source": [
    "def train(train, test, classifier):\n",
    "  # (train, test) = df.randomSplit([.7,.3])\n",
    "  print(classifier)\n",
    "  model = classifier.fit(train)\n",
    "\n",
    "  pred = model.transform(test)\n",
    "\n",
    "  eval_accuracy = (MulticlassClassificationEvaluator\n",
    "        (labelCol=\"label\", predictionCol=\"prediction\", metricName=\"accuracy\"))\n",
    "  \n",
    "  eval_precision = (MulticlassClassificationEvaluator\n",
    "        (labelCol=\"label\", predictionCol=\"prediction\", metricName=\"weightedPrecision\"))\n",
    "  \n",
    "  eval_recall = (MulticlassClassificationEvaluator\n",
    "        (labelCol=\"label\", predictionCol=\"prediction\", metricName=\"weightedRecall\"))\n",
    "  \n",
    "  eval_f1 = (MulticlassClassificationEvaluator\n",
    "        (labelCol=\"label\", predictionCol=\"prediction\", metricName=\"f1\"))\n",
    "\n",
    "  accuracy = eval_accuracy.evaluate(pred)\n",
    "\n",
    "  precision =  eval_precision.evaluate(pred)\n",
    "\n",
    "  recall =  eval_recall.evaluate(pred)\n",
    "\n",
    "  f1 =  eval_f1.evaluate(pred)\n",
    "\n",
    "  print(f\"\"\"\n",
    "  Accuracy  = {accuracy}\n",
    "  Error     = {1-accuracy}\n",
    "  Precision = {precision}\n",
    "  Recall    = {recall}\n",
    "  F1        = {f1}\"\"\")\n",
    "\n",
    "  return model, pred"
   ]
  },
  {
   "cell_type": "code",
   "execution_count": 127,
   "metadata": {},
   "outputs": [
    {
     "name": "stdout",
     "output_type": "stream",
     "text": [
      "RandomForestClassifier_225a78db3549\n",
      "\n",
      "  Accuracy  = 0.9004853149523225\n",
      "  Error     = 0.09951468504767746\n",
      "  Precision = 0.8108738024447836\n",
      "  Recall    = 0.9004853149523225\n",
      "  F1        = 0.853333404962538\n",
      "+----------+-----+--------------------+\n",
      "|prediction|label|            features|\n",
      "+----------+-----+--------------------+\n",
      "|       0.0|    0|(24,[0,1,4,12,18]...|\n",
      "|       0.0|    0|(24,[0,1,2,10,19]...|\n",
      "|       0.0|    1|(24,[0,1,6,14,18]...|\n",
      "|       0.0|    0|(24,[0,1,2,10,23]...|\n",
      "|       0.0|    0|(24,[0,1,3,11,20]...|\n",
      "|       0.0|    0|(24,[0,1,5,13,18]...|\n",
      "|       0.0|    0|(24,[0,1,9,17,21]...|\n",
      "|       0.0|    0|(24,[0,1,4,12,18]...|\n",
      "|       0.0|    0|(24,[0,1,2,10,19]...|\n",
      "|       0.0|    0|(24,[0,1,3,11,20]...|\n",
      "|       0.0|    0|(24,[0,1,2,10,20]...|\n",
      "|       0.0|    0|(24,[0,1,2,10,22]...|\n",
      "|       0.0|    0|(24,[0,1,2,10,19]...|\n",
      "|       0.0|    0|(24,[0,1,3,11,19]...|\n",
      "|       0.0|    0|(24,[0,1,3,11,20]...|\n",
      "|       0.0|    0|(24,[0,1,2,10,20]...|\n",
      "|       0.0|    0|(24,[0,1,5,13,18]...|\n",
      "|       0.0|    0|(24,[0,1,3,11,19]...|\n",
      "|       0.0|    0|(24,[0,1,9,17,18]...|\n",
      "|       0.0|    0|(24,[0,1,4,12,18]...|\n",
      "+----------+-----+--------------------+\n",
      "only showing top 20 rows\n",
      "\n"
     ]
    }
   ],
   "source": [
    "rfm2 = RandomForestClassifier(featuresCol=\"features\",\n",
    "                              labelCol=\"label\",\n",
    "                              numTrees=50,\n",
    "                              maxDepth=5,\n",
    "                              featureSubsetStrategy='onethird')\n",
    "_ , pred2 = train(train_df, test_df, rfm2)\n",
    "\n",
    "pred2.select(\"prediction\", \"label\", \"features\").show()"
   ]
  },
  {
   "cell_type": "markdown",
   "metadata": {},
   "source": [
    "# Creating Pipeline"
   ]
  },
  {
   "cell_type": "code",
   "execution_count": 129,
   "metadata": {},
   "outputs": [
    {
     "data": {
      "text/plain": [
       "['salary', 'no_of_projects']"
      ]
     },
     "execution_count": 129,
     "metadata": {},
     "output_type": "execute_result"
    }
   ],
   "source": [
    "continuous_features"
   ]
  },
  {
   "cell_type": "code",
   "execution_count": 130,
   "metadata": {},
   "outputs": [
    {
     "data": {
      "text/plain": [
       "['dept_name', 'dept_no', 'title']"
      ]
     },
     "execution_count": 130,
     "metadata": {},
     "output_type": "execute_result"
    }
   ],
   "source": [
    "categorical_features"
   ]
  },
  {
   "cell_type": "code",
   "execution_count": 155,
   "metadata": {},
   "outputs": [],
   "source": [
    "input_col = ['dept_name', 'dept_no', 'title']\n",
    "index_col = ['dept_name_Index','dept_no_Index','title_Index']\n",
    "vec_col = ['dept_name_Vec', 'dept_no_Vec','title_Vec']"
   ]
  },
  {
   "cell_type": "code",
   "execution_count": null,
   "metadata": {},
   "outputs": [],
   "source": [
    "from pyspark.ml.feature import StringIndexer, OneHotEncoder, VectorAssembler\n",
    "from pyspark.ml import Pipeline\n",
    "from pyspark.ml.classification import RandomForestClassifier\n",
    "from pyspark.ml.evaluation import MulticlassClassificationEvaluator, BinaryClassificationEvaluator\n",
    "\n",
    "## Create indexers for the categorical features\n",
    "indexers = StringIndexer(inputCol=input_col, outputCol=index_col)\n",
    "                          \n",
    "## encode the categorical features\n",
    "encoders = OneHotEncoderEstimator(inputCols=index_col,outputCols=vec_col)\n",
    "                         \n",
    "# Vector Assembler\n",
    "assembler = VectorAssembler(inputCols= featureCols, outputCol = \"features\")\n",
    "\n",
    "# ML Model\n",
    "rfm = RandomForestClassifier(featuresCol=\"features\",\n",
    "                              labelCol=\"label\",\n",
    "                              numTrees=50,\n",
    "                              maxDepth=5,\n",
    "                              featureSubsetStrategy='onethird')\n",
    "\n",
    "# Creating Pipeline\n",
    "pipeline = Pipeline( stages= [indexer, assembler, rfm])"
   ]
  },
  {
   "cell_type": "code",
   "execution_count": 157,
   "metadata": {},
   "outputs": [],
   "source": [
    "#Train Test Split\n",
    "training,testing = df_train.randomSplit([0.7,0.3],seed=53)"
   ]
  },
  {
   "cell_type": "code",
   "execution_count": null,
   "metadata": {},
   "outputs": [],
   "source": [
    "model = pipeline.fit(training)"
   ]
  },
  {
   "cell_type": "code",
   "execution_count": null,
   "metadata": {},
   "outputs": [],
   "source": [
    "y_pred_train = model.transform(training)"
   ]
  },
  {
   "cell_type": "code",
   "execution_count": null,
   "metadata": {},
   "outputs": [],
   "source": [
    "y_pred_test = model.transform(testing)"
   ]
  }
 ],
 "metadata": {
  "kernelspec": {
   "display_name": "Python 3",
   "language": "python",
   "name": "python3"
  },
  "language_info": {
   "codemirror_mode": {
    "name": "ipython",
    "version": 3
   },
   "file_extension": ".py",
   "mimetype": "text/x-python",
   "name": "python",
   "nbconvert_exporter": "python",
   "pygments_lexer": "ipython3",
   "version": "3.7.6"
  }
 },
 "nbformat": 4,
 "nbformat_minor": 4
}
